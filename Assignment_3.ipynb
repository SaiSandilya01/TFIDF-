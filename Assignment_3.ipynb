{
  "cells": [
    {
      "cell_type": "code",
      "source": [
        "!jupyter notebook --NotebookApp.iopub_data_rate_limit=1.0e10"
      ],
      "metadata": {
        "id": "6XNqoRvZ6bnm",
        "outputId": "6df9eeff-a5de-43ff-d12c-3f052d4054d1",
        "colab": {
          "base_uri": "https://localhost:8080/"
        }
      },
      "execution_count": 1,
      "outputs": [
        {
          "output_type": "stream",
          "name": "stdout",
          "text": [
            "Traceback (most recent call last):\n",
            "  File \"/usr/local/bin/jupyter-notebook\", line 8, in <module>\n",
            "    sys.exit(main())\n",
            "  File \"/usr/local/lib/python2.7/dist-packages/jupyter_core/application.py\", line 267, in launch_instance\n",
            "    return super(JupyterApp, cls).launch_instance(argv=argv, **kwargs)\n",
            "  File \"/usr/local/lib/python2.7/dist-packages/traitlets/config/application.py\", line 657, in launch_instance\n",
            "    app.initialize(argv)\n",
            "  File \"</usr/local/lib/python2.7/dist-packages/decorator.pyc:decorator-gen-7>\", line 2, in initialize\n",
            "  File \"/usr/local/lib/python2.7/dist-packages/traitlets/config/application.py\", line 87, in catch_config_error\n",
            "    return method(app, *args, **kwargs)\n",
            "  File \"/usr/local/lib/python2.7/dist-packages/notebook/notebookapp.py\", line 1368, in initialize\n",
            "    self.init_webapp()\n",
            "  File \"/usr/local/lib/python2.7/dist-packages/notebook/notebookapp.py\", line 1188, in init_webapp\n",
            "    self.http_server.listen(port, self.ip)\n",
            "  File \"/usr/local/lib/python2.7/dist-packages/tornado/tcpserver.py\", line 142, in listen\n",
            "    sockets = bind_sockets(port, address=address)\n",
            "  File \"/usr/local/lib/python2.7/dist-packages/tornado/netutil.py\", line 197, in bind_sockets\n",
            "    sock.bind(sockaddr)\n",
            "  File \"/usr/lib/python2.7/socket.py\", line 228, in meth\n",
            "    return getattr(self._sock,name)(*args)\n",
            "socket.error: [Errno 99] Cannot assign requested address\n"
          ]
        }
      ]
    },
    {
      "cell_type": "markdown",
      "metadata": {
        "id": "h9464I-uxLiw"
      },
      "source": [
        "# Assignment"
      ]
    },
    {
      "cell_type": "markdown",
      "metadata": {
        "id": "IvLvmewlxLix"
      },
      "source": [
        "<font face='georgia'>\n",
        "    \n",
        "   <h4><strong>What does tf-idf mean?</strong></h4>\n",
        "\n",
        "   <p>    \n",
        "Tf-idf stands for <em>term frequency-inverse document frequency</em>, and the tf-idf weight is a weight often used in information retrieval and text mining. This weight is a statistical measure used to evaluate how important a word is to a document in a collection or corpus. The importance increases proportionally to the number of times a word appears in the document but is offset by the frequency of the word in the corpus. Variations of the tf-idf weighting scheme are often used by search engines as a central tool in scoring and ranking a document's relevance given a user query.\n",
        "</p>\n",
        "    \n",
        "   <p>\n",
        "One of the simplest ranking functions is computed by summing the tf-idf for each query term; many more sophisticated ranking functions are variants of this simple model.\n",
        "</p>\n",
        "    \n",
        "   <p>\n",
        "Tf-idf can be successfully used for stop-words filtering in various subject fields including text summarization and classification.\n",
        "</p>\n",
        "    \n",
        "</font>"
      ]
    },
    {
      "cell_type": "markdown",
      "metadata": {
        "id": "4XLaGFUMxLiy"
      },
      "source": [
        "<font face='georgia'>\n",
        "    <h4><strong>How to Compute:</strong></h4>\n",
        "\n",
        "Typically, the tf-idf weight is composed by two terms: the first computes the normalized Term Frequency (TF), aka. the number of times a word appears in a document, divided by the total number of words in that document; the second term is the Inverse Document Frequency (IDF), computed as the logarithm of the number of the documents in the corpus divided by the number of documents where the specific term appears.\n",
        "\n",
        " <ul>\n",
        "    <li>\n",
        "<strong>TF:</strong> Term Frequency, which measures how frequently a term occurs in a document. Since every document is different in length, it is possible that a term would appear much more times in long documents than shorter ones. Thus, the term frequency is often divided by the document length (aka. the total number of terms in the document) as a way of normalization: <br>\n",
        "\n",
        "$TF(t) = \\frac{\\text{Number of times term t appears in a document}}{\\text{Total number of terms in the document}}.$\n",
        "</li>\n",
        "<li>\n",
        "<strong>IDF:</strong> Inverse Document Frequency, which measures how important a term is. While computing TF, all terms are considered equally important. However it is known that certain terms, such as \"is\", \"of\", and \"that\", may appear a lot of times but have little importance. Thus we need to weigh down the frequent terms while scale up the rare ones, by computing the following: <br>\n",
        "\n",
        "$IDF(t) = \\log_{e}\\frac{\\text{Total  number of documents}} {\\text{Number of documents with term t in it}}.$\n",
        "for numerical stabiltiy we will be changing this formula little bit\n",
        "$IDF(t) = \\log_{e}\\frac{\\text{Total  number of documents}} {\\text{Number of documents with term t in it}+1}.$\n",
        "</li>\n",
        "</ul>\n",
        "\n",
        "<br>\n",
        "<h4><strong>Example</strong></h4>\n",
        "<p>\n",
        "\n",
        "Consider a document containing 100 words wherein the word cat appears 3 times. The term frequency (i.e., tf) for cat is then (3 / 100) = 0.03. Now, assume we have 10 million documents and the word cat appears in one thousand of these. Then, the inverse document frequency (i.e., idf) is calculated as log(10,000,000 / 1,000) = 4. Thus, the Tf-idf weight is the product of these quantities: 0.03 * 4 = 0.12.\n",
        "</p>\n",
        "</font>"
      ]
    },
    {
      "cell_type": "markdown",
      "metadata": {
        "id": "dg2ooa4DxLiz"
      },
      "source": [
        "## Task-1"
      ]
    },
    {
      "cell_type": "markdown",
      "metadata": {
        "id": "TAcTjhO8xLiz"
      },
      "source": [
        "<font face='georgia'>\n",
        "    <h4><strong>1. Build a TFIDF Vectorizer & compare its results with Sklearn:</strong></h4>\n",
        "\n",
        "<ul>\n",
        "    <li> As a part of this task you will be implementing TFIDF vectorizer on a collection of text documents.</li>\n",
        "    <br>\n",
        "    <li> You should compare the results of your own implementation of TFIDF vectorizer with that of sklearns implemenation TFIDF vectorizer.</li>\n",
        "    <br>\n",
        "    <li> Sklearn does few more tweaks in the implementation of its version of TFIDF vectorizer, so to replicate the exact results you would need to add following things to your custom implementation of tfidf vectorizer:\n",
        "       <ol>\n",
        "        <li> Sklearn has its vocabulary generated from idf sroted in alphabetical order</li>\n",
        "        <li> Sklearn formula of idf is different from the standard textbook formula. Here the constant <strong>\"1\"</strong> is added to the numerator and denominator of the idf as if an extra document was seen containing every term in the collection exactly once, which prevents zero divisions.\n",
        "            \n",
        " $IDF(t) = 1+\\log_{e}\\frac{1\\text{ }+\\text{ Total  number of documents in collection}} {1+\\text{Number of documents with term t in it}}.$\n",
        "        </li>\n",
        "        <li> Sklearn applies L2-normalization on its output matrix.</li>\n",
        "        <li> The final output of sklearn tfidf vectorizer is a sparse matrix.</li>\n",
        "    </ol>\n",
        "    <br>\n",
        "    <li>Steps to approach this task:\n",
        "    <ol>\n",
        "        <li> You would have to write both fit and transform methods for your custom implementation of tfidf vectorizer.</li>\n",
        "        <li> Print out the alphabetically sorted voacb after you fit your data and check if its the same as that of the feature names from sklearn tfidf vectorizer. </li>\n",
        "        <li> Print out the idf values from your implementation and check if its the same as that of sklearns tfidf vectorizer idf values. </li>\n",
        "        <li> Once you get your voacb and idf values to be same as that of sklearns implementation of tfidf vectorizer, proceed to the below steps. </li>\n",
        "        <li> Make sure the output of your implementation is a sparse matrix. Before generating the final output, you need to normalize your sparse matrix using L2 normalization. You can refer to this link https://scikit-learn.org/stable/modules/generated/sklearn.preprocessing.normalize.html </li>\n",
        "        <li> After completing the above steps, print the output of your custom implementation and compare it with sklearns implementation of tfidf vectorizer.</li>\n",
        "        <li> To check the output of a single document in your collection of documents,  you can convert the sparse matrix related only to that document into dense matrix and print it.</li>\n",
        "        </ol>\n",
        "    </li>\n",
        "    <br>\n",
        "   </ul>\n",
        "\n",
        "  <p> <font color=\"#e60000\"><strong>Note-1: </strong></font> All the necessary outputs of sklearns tfidf vectorizer have been provided as reference in this notebook, you can compare your outputs as mentioned in the above steps, with these outputs.<br>\n",
        "   <font color=\"#e60000\"><strong>Note-2: </strong></font> The output of your custom implementation and that of sklearns implementation would match only with the collection of document strings provided to you as reference in this notebook. It would not match for strings that contain capital letters or punctuations, etc, because sklearn version of tfidf vectorizer deals with such strings in a different way. To know further details about how sklearn tfidf vectorizer works with such string, you can always refer to its official documentation.<br>\n",
        "   <font color=\"#e60000\"><strong>Note-3: </strong></font> During this task, it would be helpful for you to debug the code you write with print statements wherever necessary. But when you are finally submitting the assignment, make sure your code is readable and try not to print things which are not part of this task.\n",
        "    </p>"
      ]
    },
    {
      "cell_type": "markdown",
      "metadata": {
        "id": "OnV82tg1xLi0"
      },
      "source": [
        "### Corpus"
      ]
    },
    {
      "cell_type": "code",
      "execution_count": 2,
      "metadata": {
        "id": "bUsYm9wjxLi1"
      },
      "outputs": [],
      "source": [
        "## SkLearn# Collection of string documents\n",
        "\n",
        "corpus = [\n",
        "     'this is the first document',\n",
        "     'this document is the second document',\n",
        "     'and this is the third one',\n",
        "     'is this the first document',\n",
        "]"
      ]
    },
    {
      "cell_type": "markdown",
      "metadata": {
        "id": "eLwmFZfKxLi4"
      },
      "source": [
        "### SkLearn Implementation"
      ]
    },
    {
      "cell_type": "code",
      "execution_count": 3,
      "metadata": {
        "id": "Np4dfQOkxLi4"
      },
      "outputs": [],
      "source": [
        "from sklearn.feature_extraction.text import TfidfVectorizer\n",
        "vectorizer = TfidfVectorizer()\n",
        "vectorizer.fit(corpus)\n",
        "skl_output = vectorizer.transform(corpus)"
      ]
    },
    {
      "cell_type": "code",
      "execution_count": 4,
      "metadata": {
        "colab": {
          "base_uri": "https://localhost:8080/"
        },
        "id": "-7Om8YpYxLi6",
        "outputId": "2e0930ab-b330-4b57-ffed-cd234b553c8e"
      },
      "outputs": [
        {
          "output_type": "stream",
          "name": "stdout",
          "text": [
            "['and', 'document', 'first', 'is', 'one', 'second', 'the', 'third', 'this']\n"
          ]
        },
        {
          "output_type": "stream",
          "name": "stderr",
          "text": [
            "/usr/local/lib/python3.7/dist-packages/sklearn/utils/deprecation.py:87: FutureWarning: Function get_feature_names is deprecated; get_feature_names is deprecated in 1.0 and will be removed in 1.2. Please use get_feature_names_out instead.\n",
            "  warnings.warn(msg, category=FutureWarning)\n"
          ]
        }
      ],
      "source": [
        "# sklearn feature names, they are sorted in alphabetic order by default.\n",
        "\n",
        "print(vectorizer.get_feature_names())"
      ]
    },
    {
      "cell_type": "code",
      "execution_count": 5,
      "metadata": {
        "colab": {
          "base_uri": "https://localhost:8080/"
        },
        "id": "dTKplK96xLi-",
        "outputId": "4134bf5b-b4c7-4cb5-c7ef-58904d1e413b"
      },
      "outputs": [
        {
          "output_type": "stream",
          "name": "stdout",
          "text": [
            "[1.91629073 1.22314355 1.51082562 1.         1.91629073 1.91629073\n",
            " 1.         1.91629073 1.        ]\n"
          ]
        }
      ],
      "source": [
        "# Here we will print the sklearn tfidf vectorizer idf values after applying the fit method\n",
        "# After using the fit function on the corpus the vocab has 9 words in it, and each has its idf value.\n",
        "\n",
        "print(vectorizer.idf_)"
      ]
    },
    {
      "cell_type": "code",
      "execution_count": 6,
      "metadata": {
        "colab": {
          "base_uri": "https://localhost:8080/"
        },
        "id": "-CTiWHygxLjA",
        "outputId": "f78a6a66-d070-4ff6-fd7c-18384d41467c"
      },
      "outputs": [
        {
          "output_type": "execute_result",
          "data": {
            "text/plain": [
              "(4, 9)"
            ]
          },
          "metadata": {},
          "execution_count": 6
        }
      ],
      "source": [
        "# shape of sklearn tfidf vectorizer output after applying transform method.\n",
        "\n",
        "skl_output.shape"
      ]
    },
    {
      "cell_type": "code",
      "execution_count": 7,
      "metadata": {
        "id": "bDKEpbA-xLjD",
        "outputId": "b7483460-b5e0-43d7-d7a8-282c54453a10",
        "colab": {
          "base_uri": "https://localhost:8080/"
        }
      },
      "outputs": [
        {
          "output_type": "stream",
          "name": "stdout",
          "text": [
            "  (0, 8)\t0.38408524091481483\n",
            "  (0, 6)\t0.38408524091481483\n",
            "  (0, 3)\t0.38408524091481483\n",
            "  (0, 2)\t0.5802858236844359\n",
            "  (0, 1)\t0.46979138557992045\n"
          ]
        }
      ],
      "source": [
        "# sklearn tfidf values for first line of the above corpus.\n",
        "# Here the output is a sparse matrix\n",
        "\n",
        "print(skl_output[0])"
      ]
    },
    {
      "cell_type": "code",
      "execution_count": 8,
      "metadata": {
        "id": "3QWo34hexLjF",
        "outputId": "5cfabfda-e456-4579-972d-974a256e3fac",
        "colab": {
          "base_uri": "https://localhost:8080/"
        }
      },
      "outputs": [
        {
          "output_type": "stream",
          "name": "stdout",
          "text": [
            "[[0.         0.46979139 0.58028582 0.38408524 0.         0.\n",
            "  0.38408524 0.         0.38408524]]\n"
          ]
        }
      ],
      "source": [
        "# sklearn tfidf values for first line of the above corpus.\n",
        "# To understand the output better, here we are converting the sparse output matrix to dense matrix and printing it.\n",
        "# Notice that this output is normalized using L2 normalization. sklearn does this by default.\n",
        "\n",
        "print(skl_output[0].toarray())"
      ]
    },
    {
      "cell_type": "markdown",
      "metadata": {
        "id": "qfIwx5LzxLjI"
      },
      "source": [
        "### Your custom implementation"
      ]
    },
    {
      "cell_type": "code",
      "execution_count": 9,
      "metadata": {
        "id": "HjuCcJwXxLjJ"
      },
      "outputs": [],
      "source": [
        "# Write your code here.\n",
        "# Make sure its well documented and readble with appropriate comments.\n",
        "# Compare your results with the above sklearn tfidf vectorizer\n",
        "# You are not supposed to use any other library apart from the ones given below\n",
        "\n",
        "from collections import Counter\n",
        "from tqdm import tqdm\n",
        "from scipy.sparse import csr_matrix\n",
        "import math\n",
        "import operator\n",
        "from sklearn.preprocessing import normalize\n",
        "import numpy "
      ]
    },
    {
      "cell_type": "code",
      "execution_count": 9,
      "metadata": {
        "id": "kRVgKhl19ahs"
      },
      "outputs": [],
      "source": [
        "\n"
      ]
    },
    {
      "cell_type": "code",
      "execution_count": 10,
      "metadata": {
        "colab": {
          "base_uri": "https://localhost:8080/"
        },
        "id": "6LbgLBE5ginC",
        "outputId": "ea2d5d67-6222-4699-fe07-88851a51fa9b"
      },
      "outputs": [
        {
          "output_type": "stream",
          "name": "stdout",
          "text": [
            "{'and': 0, 'document': 1, 'first': 2, 'is': 3, 'one': 4, 'second': 5, 'the': 6, 'third': 7, 'this': 8} {'and': 1.916290731874155, 'document': 1.2231435513142097, 'first': 1.5108256237659907, 'is': 1.0, 'one': 1.916290731874155, 'second': 1.916290731874155, 'the': 1.0, 'third': 1.916290731874155, 'this': 1.0}\n",
            "Normalized Spare Matrix\n",
            "   (0, 1)\t0.4697913855799205\n",
            "  (0, 2)\t0.580285823684436\n",
            "  (0, 3)\t0.3840852409148149\n",
            "  (0, 6)\t0.3840852409148149\n",
            "  (0, 8)\t0.3840852409148149\n",
            "  (1, 1)\t0.6876235979836937\n",
            "  (1, 3)\t0.2810886740337529\n",
            "  (1, 5)\t0.5386476208856762\n",
            "  (1, 6)\t0.2810886740337529\n",
            "  (1, 8)\t0.2810886740337529\n",
            "  (2, 0)\t0.511848512707169\n",
            "  (2, 3)\t0.267103787642168\n",
            "  (2, 4)\t0.511848512707169\n",
            "  (2, 6)\t0.267103787642168\n",
            "  (2, 7)\t0.511848512707169\n",
            "  (2, 8)\t0.267103787642168\n",
            "  (3, 1)\t0.4697913855799205\n",
            "  (3, 2)\t0.580285823684436\n",
            "  (3, 3)\t0.3840852409148149\n",
            "  (3, 6)\t0.3840852409148149\n",
            "  (3, 8)\t0.3840852409148149\n",
            "(4, 9)\n"
          ]
        },
        {
          "output_type": "stream",
          "name": "stderr",
          "text": [
            "/usr/local/lib/python3.7/dist-packages/scipy/sparse/_index.py:84: SparseEfficiencyWarning: Changing the sparsity structure of a csr_matrix is expensive. lil_matrix is more efficient.\n",
            "  self._set_intXint(row, col, x.flat[0])\n"
          ]
        }
      ],
      "source": [
        "# Finding Feature names of the vector \n",
        "\n",
        "feature_names = []\n",
        "for sentence in corpus:\n",
        "  for word in sentence.split():\n",
        "    if len(word)>=2:\n",
        "      feature_names.append(word)\n",
        "\n",
        "feature_names = list(sorted(list(set(feature_names))))\n",
        "\n",
        "\n",
        "# Function to return the frequency of a word in a sentence. \n",
        "def freq_tf(word, sentence):\n",
        "  freq = 0\n",
        "  for i in sentence.split():\n",
        "    if i==word:\n",
        "      freq+=1\n",
        "  return freq\n",
        "\n",
        "# Function to return the Term frequency value \n",
        "def tf(corpus, feature_names):\n",
        "  tf = []\n",
        "  for sentence in corpus:\n",
        "    tf_vector = []\n",
        "    denominator = len(list(sentence.split()))\n",
        "    for i in feature_names:\n",
        "# TF = No of occurences of a word in a document/ Total no of words in the document.\n",
        "      tf_vector.append(freq_tf(i,sentence)/denominator)\n",
        "    tf.append(tf_vector)\n",
        "  return tf\n",
        "\n",
        "# function to return a dictionary containing the keys as the features of the vector and their corresponding value pairs are the IDF value. \n",
        "def idf(corpus, feature_names):\n",
        "  idf = {}\n",
        "  No_docs = len(corpus)\n",
        "  for word in feature_names:\n",
        "    count = 0\n",
        "    for sentence in corpus:\n",
        "      if word in sentence.split():\n",
        "        count+=1\n",
        "      idf[word] = 1+math.log((1+No_docs)/(1+count))\n",
        "\n",
        "  return idf\n",
        "\n",
        "# Function to return vocabulary(dictionary in which keys are feature names and values are the postion of the feature name in the vector.) and IDF values in a dictionary. \n",
        "def fit(corpus,feature_names):\n",
        "  vocab = {j:i for i,j in enumerate(feature_names)}\n",
        "   \n",
        "  idf_dict = idf(corpus, feature_names)\n",
        "\n",
        "  return vocab, idf_dict\n",
        "\n",
        "\n",
        "# Returns a normalized sparse matrix containing the TFIDF values\n",
        "def transform(corpus, vocab, idf_dict, tf):\n",
        "  \n",
        "  sparse_matrix = csr_matrix((len(corpus), len(vocab)), dtype= numpy.float64)\n",
        "  for i in range(0,len(corpus)):\n",
        "    for j in corpus[i].split():\n",
        "      if j in vocab.keys():\n",
        "        sparse_matrix[i, vocab[j]] = tf[i][vocab[j]] * idf_dict[j]\n",
        "  print(\"Normalized Spare Matrix\\n\", normalize(sparse_matrix, norm = 'l2', axis = 1, copy = True, return_norm = False))\n",
        "  output = normalize(sparse_matrix, norm = 'l2', axis = 1, copy = True, return_norm = False)\n",
        "  return output\n",
        "\n",
        "\n",
        "  \n",
        "  \n",
        "\n",
        "vocab, idf_dict = fit(corpus, feature_names)\n",
        "idf_l = idf(corpus, feature_names)\n",
        "tf_l = tf(corpus, feature_names)\n",
        "\n",
        "print(vocab, idf_dict)\n",
        "\n",
        "transformed = transform(corpus, vocab, idf_dict, tf_l )\n",
        "\n",
        "print(transformed.shape)\n",
        "\n",
        "\n",
        "\n",
        "\n"
      ]
    },
    {
      "cell_type": "markdown",
      "source": [
        "# Compare with TfidfVectorizer\n"
      ],
      "metadata": {
        "id": "yckLhtGb7daH"
      }
    },
    {
      "cell_type": "code",
      "source": [
        "from sklearn.feature_extraction.text import TfidfVectorizer\n",
        "tf_idf_vectorizer = TfidfVectorizer()\n",
        "\n",
        "tfidf_vector = tf_idf_vectorizer.fit_transform(corpus)\n",
        "print(tfidf_vector)"
      ],
      "metadata": {
        "colab": {
          "base_uri": "https://localhost:8080/"
        },
        "id": "75b4PaAP7cyl",
        "outputId": "397a3451-6e08-4425-ae84-e80871e17487"
      },
      "execution_count": 11,
      "outputs": [
        {
          "output_type": "stream",
          "name": "stdout",
          "text": [
            "  (0, 1)\t0.46979138557992045\n",
            "  (0, 2)\t0.5802858236844359\n",
            "  (0, 6)\t0.38408524091481483\n",
            "  (0, 3)\t0.38408524091481483\n",
            "  (0, 8)\t0.38408524091481483\n",
            "  (1, 5)\t0.5386476208856763\n",
            "  (1, 1)\t0.6876235979836938\n",
            "  (1, 6)\t0.281088674033753\n",
            "  (1, 3)\t0.281088674033753\n",
            "  (1, 8)\t0.281088674033753\n",
            "  (2, 4)\t0.511848512707169\n",
            "  (2, 7)\t0.511848512707169\n",
            "  (2, 0)\t0.511848512707169\n",
            "  (2, 6)\t0.267103787642168\n",
            "  (2, 3)\t0.267103787642168\n",
            "  (2, 8)\t0.267103787642168\n",
            "  (3, 1)\t0.46979138557992045\n",
            "  (3, 2)\t0.5802858236844359\n",
            "  (3, 6)\t0.38408524091481483\n",
            "  (3, 3)\t0.38408524091481483\n",
            "  (3, 8)\t0.38408524091481483\n"
          ]
        }
      ]
    },
    {
      "cell_type": "markdown",
      "source": [
        "## Observations:-\n",
        "The sparse matrices obtained from our custom fuction and tfidfvectorizer's fit_transform method are the same."
      ],
      "metadata": {
        "id": "9G9mxPOXzhMh"
      }
    },
    {
      "cell_type": "markdown",
      "metadata": {
        "id": "MMxBmVZExLjK"
      },
      "source": [
        "## Task-2"
      ]
    },
    {
      "cell_type": "markdown",
      "metadata": {
        "id": "51j_OtqAxLjL"
      },
      "source": [
        "<font face='georgia'>\n",
        "    <h4><strong>2. Implement max features functionality:</strong></h4>\n",
        "\n",
        "<ul>\n",
        "    <li> As a part of this task you have to modify your fit and transform functions so that your vocab will contain only 50 terms with top idf scores.</li>\n",
        "    <br>\n",
        "    <li>This task is similar to your previous task, just that here your vocabulary is limited to only top 50 features names based on their idf values. Basically your output will have exactly 50 columns and the number of rows will depend on the number of documents you have in your corpus.</li>\n",
        "    <br>\n",
        "    <li>Here you will be give a pickle file, with file name <strong>cleaned_strings</strong>. You would have to load the corpus from this file and use it as input to your tfidf vectorizer.</li>\n",
        "    <br>\n",
        "    <li>Steps to approach this task:\n",
        "    <ol>\n",
        "        <li> You would have to write both fit and transform methods for your custom implementation of tfidf vectorizer, just like in the previous task. Additionally, here you have to limit the number of features generated to 50 as described above.</li>\n",
        "        <li> Now sort your vocab based in descending order of idf values and print out the words in the sorted voacb after you fit your data. Here you should be getting only 50 terms in your vocab. And make sure to print idf values for each term in your vocab. </li>\n",
        "        <li> Make sure the output of your implementation is a sparse matrix. Before generating the final output, you need to normalize your sparse matrix using L2 normalization. You can refer to this link https://scikit-learn.org/stable/modules/generated/sklearn.preprocessing.normalize.html </li>\n",
        "        <li> Now check the output of a single document in your collection of documents,  you can convert the sparse matrix related only to that document into dense matrix and print it. And this dense matrix should contain 1 row and 50 columns. </li>\n",
        "        </ol>\n",
        "    </li>\n",
        "    <br>\n",
        "   </ul>"
      ]
    },
    {
      "cell_type": "code",
      "execution_count": 12,
      "metadata": {
        "colab": {
          "base_uri": "https://localhost:8080/"
        },
        "id": "NHxPLlwNxLjL",
        "outputId": "805b0732-4b62-44ac-9e63-c8269556c088"
      },
      "outputs": [
        {
          "output_type": "stream",
          "name": "stdout",
          "text": [
            "Mounted at /content/drive\n",
            "Number of documents in corpus =  746\n"
          ]
        }
      ],
      "source": [
        "# Below is the code to load the cleaned_strings pickle file provided\n",
        "# Here corpus is of list type\n",
        "\n",
        "import pickle\n",
        "\n",
        "from google.colab import drive\n",
        "import os\n",
        "\n",
        "# File handling for a pickle file from a google colab i-python notebook\n",
        "drive.mount('/content/drive')\n",
        "PATH = '/content/drive/My Drive/Assignment 3 tfidf/3_CountVectorizer'\n",
        "\n",
        "file_name = 'cleaned_strings'\n",
        "path_to_embed = os.path.join(PATH,file_name)\n",
        "\n",
        "corpus = pickle.load(open(path_to_embed, \"rb\"))\n",
        "\n",
        "#with open('cleaned_strings', 'rb') as f:\n",
        "#    corpus = pickle.load(f)\n",
        "    \n",
        "#printing the length of the corpus loaded\n",
        "print(\"Number of documents in corpus = \",len(corpus))"
      ]
    },
    {
      "cell_type": "code",
      "execution_count": 13,
      "metadata": {
        "id": "ZULfoOIdxLjQ"
      },
      "outputs": [],
      "source": [
        "# Write your code here.\n",
        "# Try not to hardcode any values.\n",
        "# Make sure its well documented and readble with appropriate comments."
      ]
    },
    {
      "cell_type": "code",
      "execution_count": 14,
      "metadata": {
        "id": "1_DJnnR3xLjR",
        "colab": {
          "base_uri": "https://localhost:8080/"
        },
        "outputId": "35728515-d289-41ed-9759-27275b956735"
      },
      "outputs": [
        {
          "output_type": "stream",
          "name": "stdout",
          "text": [
            "<class 'list'>\n"
          ]
        }
      ],
      "source": [
        "print(type(corpus))"
      ]
    },
    {
      "cell_type": "code",
      "execution_count": 20,
      "metadata": {
        "colab": {
          "base_uri": "https://localhost:8080/"
        },
        "id": "qbdUFPvp1wCr",
        "outputId": "67208452-7e79-4e2c-a38c-c36b3f4354ae"
      },
      "outputs": [
        {
          "output_type": "stream",
          "name": "stdout",
          "text": [
            "['aailiyah', 'abandoned', 'ability', 'abroad', 'absolutely', 'abstruse', 'abysmal', 'academy', 'accents', 'accessible', 'acclaimed', 'accolades', 'accurate', 'accurately', 'accused', 'achievement', 'achille', 'ackerman', 'act', 'acted', 'acting', 'action', 'actions', 'actor', 'actors', 'actress', 'actresses', 'actually', 'adams', 'adaptation', 'add', 'added', 'addition', 'admins', 'admiration', 'admitted', 'adorable', 'adrift', 'adventure', 'advise', 'aerial', 'aesthetically', 'affected', 'affleck', 'afraid', 'africa', 'afternoon', 'age', 'aged', 'ages', 'ago', 'agree', 'agreed', 'aimless', 'air', 'aired', 'akasha', 'akin', 'alert', 'alexander', 'alike', 'allison', 'allow', 'allowing', 'almost', 'along', 'alongside', 'already', 'also', 'although', 'always', 'amateurish', 'amaze', 'amazed', 'amazing', 'amazingly', 'america', 'american', 'americans', 'among', 'amount', 'amusing', 'amust', 'anatomist', 'angel', 'angela', 'angeles', 'angelina', 'angle', 'angles', 'angry', 'anguish', 'angus', 'animals', 'animated', 'animation', 'anita', 'ann', 'anne', 'anniversary', 'annoying', 'another', 'anthony', 'antithesis', 'anyone', 'anything', 'anyway', 'apart', 'appalling', 'appealing', 'appearance', 'appears', 'applauded', 'applause', 'appreciate', 'appropriate', 'apt', 'argued', 'armageddon', 'armand', 'around', 'array', 'art', 'articulated', 'artiness', 'artist', 'artistic', 'artless', 'arts', 'aside', 'ask', 'asleep', 'aspect', 'aspects', 'ass', 'assante', 'assaulted', 'assistant', 'astonishingly', 'astronaut', 'atmosphere', 'atrocious', 'atrocity', 'attempt', 'attempted', 'attempting', 'attempts', 'attention', 'attractive', 'audience', 'audio', 'aurv', 'austen', 'austere', 'author', 'average', 'aversion', 'avoid', 'avoided', 'award', 'awarded', 'awards', 'away', 'awesome', 'awful', 'awkwardly', 'aye', 'baaaaaad', 'babbling', 'babie', 'baby', 'babysitting', 'back', 'backdrop', 'backed', 'bad', 'badly', 'bag', 'bailey', 'bakery', 'balance', 'balanced', 'ball', 'ballet', 'balls', 'band', 'barcelona', 'barely', 'barking', 'barney', 'barren', 'based', 'basic', 'basically', 'bat', 'bates', 'baxendale', 'bear', 'beautiful', 'beautifully', 'bec', 'became', 'bechard', 'become', 'becomes', 'began', 'begin', 'beginning', 'behind', 'behold', 'bela', 'believable', 'believe', 'believed', 'bell', 'bellucci', 'belly', 'belmondo', 'ben', 'bendingly', 'bennett', 'bergen', 'bertolucci', 'best', 'better', 'betty', 'beware', 'beyond', 'bible', 'big', 'biggest', 'billy', 'biographical', 'bipolarity', 'bit', 'bitchy', 'black', 'blah', 'blake', 'bland', 'blandly', 'blare', 'blatant', 'blew', 'blood', 'blown', 'blue', 'blush', 'boasts', 'bob', 'body', 'bohemian', 'boiling', 'bold', 'bombardments', 'bond', 'bonding', 'bonus', 'bonuses', 'boobs', 'boogeyman', 'book', 'boost', 'bop', 'bordered', 'borderlines', 'borders', 'bore', 'bored', 'boring', 'borrowed', 'boss', 'bother', 'bothersome', 'bought', 'box', 'boyfriend', 'boyle', 'brain', 'brainsucking', 'brat', 'breaking', 'breeders', 'brevity', 'brian', 'brief', 'brigand', 'bright', 'brilliance', 'brilliant', 'brilliantly', 'bring', 'brings', 'broad', 'broke', 'brooding', 'brother', 'brutal', 'buddy', 'budget', 'buffalo', 'buffet', 'build', 'builders', 'buildings', 'built', 'bullock', 'bully', 'bunch', 'burton', 'business', 'buy', 'cable', 'cailles', 'california', 'call', 'called', 'calls', 'came', 'cameo', 'camera', 'camerawork', 'camp', 'campy', 'canada', 'cancan', 'candace', 'candle', 'cannot', 'cant', 'captain', 'captured', 'captures', 'car', 'card', 'cardboard', 'cardellini', 'care', 'carol', 'carrell', 'carries', 'carry', 'cars', 'cartoon', 'cartoons', 'case', 'cases', 'cast', 'casted', 'casting', 'cat', 'catchy', 'caught', 'cause', 'ceases', 'celebration', 'celebrity', 'celluloid', 'centers', 'central', 'century', 'certain', 'certainly', 'cg', 'cgi', 'chalkboard', 'challenges', 'chance', 'change', 'changes', 'changing', 'channel', 'character', 'characterisation', 'characters', 'charisma', 'charismatic', 'charles', 'charlie', 'charm', 'charming', 'chase', 'chasing', 'cheap', 'cheaply', 'check', 'checking', 'cheek', 'cheekbones', 'cheerfull', 'cheerless', 'cheesiness', 'cheesy', 'chemistry', 'chick', 'child', 'childhood', 'children', 'childrens', 'chills', 'chilly', 'chimp', 'chodorov', 'choice', 'choices', 'choked', 'chosen', 'chow', 'christmas', 'christopher', 'church', 'cinema', 'cinematic', 'cinematographers', 'cinematography', 'circumstances', 'class', 'classic', 'classical', 'clear', 'clearly', 'clever', 'clich', 'cliche', 'clients', 'cliff', 'climax', 'close', 'closed', 'clothes', 'club', 'co', 'coach', 'coal', 'coastal', 'coaster', 'coherent', 'cold', 'cole', 'collect', 'collective', 'colored', 'colorful', 'colours', 'columbo', 'come', 'comedic', 'comedy', 'comes', 'comfortable', 'comforting', 'comical', 'coming', 'commands', 'comment', 'commentary', 'commented', 'comments', 'commercial', 'community', 'company', 'compelling', 'competent', 'complete', 'completed', 'completely', 'complex', 'complexity', 'composed', 'composition', 'comprehensible', 'compromise', 'computer', 'concentrate', 'conception', 'conceptually', 'concerning', 'concerns', 'concert', 'conclusion', 'condescends', 'confidence', 'configuration', 'confirm', 'conflict', 'confuses', 'confusing', 'connections', 'connery', 'connor', 'conrad', 'consequences', 'consider', 'considerable', 'considered', 'considering', 'considers', 'consistent', 'consolations', 'constant', 'constantine', 'constructed', 'contained', 'containing', 'contains', 'content', 'continually', 'continuation', 'continue', 'continuity', 'continuously', 'contract', 'contrast', 'contributing', 'contributory', 'contrived', 'control', 'controversy', 'convention', 'convey', 'convince', 'convincing', 'convoluted', 'cool', 'coppola', 'cords', 'core', 'corn', 'corny', 'correct', 'cost', 'costs', 'costumes', 'cotton', 'could', 'couple', 'course', 'court', 'courtroom', 'cover', 'cowardice', 'cox', 'crackles', 'crafted', 'crap', 'crash', 'crashed', 'crayon', 'crayons', 'crazy', 'create', 'created', 'creates', 'creative', 'creativity', 'creature', 'credible', 'credit', 'credits', 'crew', 'crime', 'crisp', 'critic', 'critical', 'crocdodile', 'crocs', 'cross', 'crowd', 'crowe', 'cruel', 'cruise', 'cry', 'cult', 'culture', 'curtain', 'custer', 'cute', 'cutest', 'cutie', 'cutouts', 'cuts', 'cutting', 'dads', 'damian', 'damn', 'dance', 'dancing', 'dangerous', 'dark', 'darren', 'daughter', 'daughters', 'day', 'days', 'de', 'dead', 'deadly', 'deadpan', 'deal', 'dealt', 'death', 'debated', 'debbie', 'debits', 'debut', 'decay', 'decent', 'decidely', 'decipher', 'decisions', 'dedication', 'dee', 'deep', 'deeply', 'defensemen', 'defined', 'definitely', 'delete', 'delight', 'delightful', 'delights', 'deliver', 'delivered', 'delivering', 'delivers', 'dependant', 'depending', 'depends', 'depicted', 'depicts', 'depressing', 'depth', 'derivative', 'describe', 'describes', 'desert', 'deserved', 'deserves', 'deserving', 'design', 'designed', 'designer', 'desperately', 'desperation', 'despised', 'despite', 'destroy', 'detailing', 'details', 'develop', 'development', 'developments', 'di', 'diabetic', 'dialog', 'dialogs', 'dialogue', 'diaper', 'dickens', 'difference', 'different', 'dignity', 'dimensional', 'direct', 'directed', 'directing', 'direction', 'director', 'directorial', 'directors', 'disappointed', 'disappointing', 'disappointment', 'disaster', 'disbelief', 'discomfort', 'discovering', 'discovery', 'disgrace', 'disgusting', 'dislike', 'disliked', 'disney', 'disparate', 'distant', 'distinction', 'distorted', 'distract', 'distressed', 'disturbing', 'diving', 'doctor', 'documentaries', 'documentary', 'dodge', 'dogs', 'dollars', 'dominated', 'done', 'donlevy', 'dont', 'doomed', 'dose', 'doubt', 'downs', 'dozen', 'dr', 'dracula', 'draft', 'drag', 'drago', 'drama', 'dramatic', 'drawings', 'drawn', 'dream', 'dreams', 'dreary', 'dribble', 'drift', 'drifting', 'drive', 'drooling', 'dropped', 'dry', 'due', 'duet', 'dull', 'dumb', 'dumbest', 'duper', 'duris', 'dustin', 'dvd', 'dwight', 'dysfunction', 'earlier', 'early', 'earth', 'easily', 'easy', 'eating', 'ebay', 'ebola', 'eccleston', 'ed', 'edge', 'editing', 'edition', 'educational', 'edward', 'effect', 'effective', 'effects', 'effort', 'efforts', 'egotism', 'eighth', 'eiko', 'either', 'elaborately', 'elderly', 'elegant', 'element', 'elias', 'eloquently', 'else', 'elsewhere', 'embarrassed', 'embarrassing', 'embassy', 'emerge', 'emilio', 'emily', 'emoting', 'emotion', 'emotionally', 'emotions', 'emperor', 'empowerment', 'emptiness', 'empty', 'en', 'enchanting', 'end', 'endearing', 'ended', 'ending', 'endlessly', 'ends', 'energetic', 'energy', 'engaging', 'english', 'enhanced', 'enjoy', 'enjoyable', 'enjoyed', 'enjoyment', 'enough', 'enter', 'enterprise', 'entertained', 'entertaining', 'entire', 'entirely', 'entrance', 'episode', 'episodes', 'equivalent', 'era', 'errol', 'errors', 'escalating', 'escapism', 'especially', 'essence', 'establish', 'established', 'estate', 'estevez', 'etc', 'european', 'evaluate', 'even', 'events', 'ever', 'every', 'everybody', 'everyone', 'everything', 'everywhere', 'evidently', 'evil', 'evinced', 'evokes', 'exactly', 'exaggerating', 'example', 'excellent', 'excellently', 'except', 'exceptional', 'exceptionally', 'excerpts', 'excessively', 'exchange', 'exciting', 'excruciatingly', 'excuse', 'excuses', 'executed', 'exemplars', 'existent', 'existential', 'expansive', 'expect', 'expectations', 'expected', 'expecting', 'experience', 'experiences', 'expert', 'explain', 'explains', 'explanation', 'exploit', 'explorations', 'explosion', 'expression', 'exquisite', 'extant', 'exteriors', 'extraneous', 'extraordinary', 'extremely', 'eye', 'eyes', 'fabulous', 'face', 'faces', 'facial', 'facing', 'fact', 'factory', 'failed', 'fails', 'fair', 'fairly', 'faithful', 'fall', 'falling', 'falls', 'falsely', 'falwell', 'fame', 'famed', 'family', 'famous', 'fan', 'fanciful', 'fans', 'fantastic', 'fantasy', 'far', 'farce', 'fare', 'fascinated', 'fascinating', 'fascination', 'fashioned', 'fast', 'faster', 'fat', 'father', 'faultless', 'fausa', 'faux', 'favorite', 'favourite', 'fear', 'feature', 'features', 'feel', 'feeling', 'feelings', 'feet', 'feisty', 'fellowes', 'felt', 'female', 'females', 'ferry', 'fest', 'fi', 'fields', 'fifteen', 'fifties', 'fill', 'film', 'filmed', 'filmiing', 'filmmaker', 'filmography', 'films', 'final', 'finale', 'finally', 'financial', 'find', 'finds', 'fine', 'finest', 'fingernails', 'finished', 'fire', 'first', 'fish', 'fishnet', 'fisted', 'fit', 'five', 'flag', 'flakes', 'flaming', 'flashbacks', 'flat', 'flaw', 'flawed', 'flaws', 'fleshed', 'flick', 'flicks', 'florida', 'flowed', 'flying', 'flynn', 'focus', 'fodder', 'follow', 'following', 'follows', 'foolish', 'footage', 'football', 'force', 'forced', 'forces', 'ford', 'foreign', 'foreigner', 'forever', 'forget', 'forgettable', 'forgetting', 'forgot', 'forgotten', 'form', 'format', 'former', 'fort', 'forth', 'forwarded', 'found', 'four', 'fox', 'foxx', 'frances', 'francis', 'frankly', 'free', 'freedom', 'freeman', 'french', 'fresh', 'freshness', 'friends', 'friendship', 'frightening', 'front', 'frontier', 'frost', 'frustration', 'fulci', 'fulfilling', 'full', 'fully', 'fumbling', 'fun', 'function', 'fundamental', 'funniest', 'funny', 'future', 'fx', 'gabriel', 'gadget', 'gain', 'gake', 'galley', 'gallon', 'game', 'games', 'garage', 'garbage', 'garbo', 'garfield', 'gas', 'gaudi', 'gave', 'gay', 'geek', 'gem', 'general', 'generally', 'generates', 'generic', 'genius', 'genre', 'gently', 'genuine', 'george', 'gerardo', 'gere', 'get', 'gets', 'getting', 'ghibili', 'giallo', 'gibberish', 'gifted', 'giovanni', 'girl', 'girlfriend', 'girls', 'girolamo', 'give', 'given', 'gives', 'giving', 'glad', 'glance', 'glasses', 'gloriously', 'go', 'goalies', 'god', 'goes', 'going', 'gone', 'gonna', 'good', 'gore', 'goremeister', 'gorman', 'gosh', 'got', 'goth', 'gotta', 'gotten', 'government', 'grace', 'grade', 'gradually', 'grainy', 'granted', 'graphics', 'grasp', 'grates', 'great', 'greatest', 'greatness', 'green', 'greenstreet', 'grew', 'grim', 'grimes', 'gripping', 'groove', 'gross', 'ground', 'guards', 'guess', 'guests', 'guilt', 'gung', 'guy', 'guys', 'hackneyed', 'haggis', 'hair', 'hairsplitting', 'half', 'halfway', 'ham', 'hand', 'handle', 'handled', 'handles', 'hands', 'hang', 'hankies', 'hanks', 'happen', 'happened', 'happiness', 'happy', 'hard', 'harris', 'hate', 'hated', 'hatred', 'havilland', 'hay', 'hayao', 'hayworth', 'hbo', 'head', 'heads', 'hear', 'heard', 'heart', 'hearts', 'heartwarming', 'heaven', 'heche', 'heels', 'heist', 'helen', 'hell', 'hellish', 'helms', 'help', 'helping', 'helps', 'hence', 'hendrikson', 'hernandez', 'hero', 'heroes', 'heroine', 'heroism', 'hes', 'hide', 'high', 'higher', 'highest', 'highlights', 'highly', 'hilarious', 'hill', 'hilt', 'hip', 'history', 'hitchcock', 'ho', 'hockey', 'hoffman', 'hold', 'holding', 'holds', 'holes', 'hollander', 'hollow', 'hollywood', 'home', 'homework', 'honest', 'honestly', 'hoot', 'hope', 'hopefully', 'hopeless', 'horrendous', 'horrendously', 'horrible', 'horrid', 'horrified', 'horror', 'horse', 'hosting', 'hot', 'hour', 'hours', 'house', 'houses', 'howdy', 'howe', 'howell', 'however', 'huge', 'hugo', 'human', 'humanity', 'humans', 'hummh', 'humor', 'humorous', 'humour', 'hurt', 'huston', 'hype', 'hypocrisy', 'idea', 'idealogical', 'identified', 'identifies', 'identify', 'idiot', 'idiotic', 'idyllic', 'iffy', 'im', 'imaginable', 'imagination', 'imaginative', 'imagine', 'imdb', 'imitation', 'impact', 'imperial', 'implausible', 'important', 'impossible', 'impressed', 'impression', 'impressive', 'improved', 'improvement', 'improvisation', 'impulse', 'inappropriate', 'incendiary', 'includes', 'including', 'incomprehensible', 'inconsistencies', 'incorrectness', 'incredible', 'incredibly', 'indeed', 'indescribably', 'indication', 'indictment', 'indie', 'individual', 'indoor', 'indulgent', 'industry', 'ineptly', 'inexperience', 'inexplicable', 'initially', 'innocence', 'insane', 'inside', 'insincere', 'insipid', 'insomniacs', 'inspiration', 'inspiring', 'instant', 'instead', 'instruments', 'insulin', 'insult', 'intangibles', 'integral', 'integration', 'intelligence', 'intelligent', 'intense', 'intensity', 'intentions', 'interacting', 'interest', 'interested', 'interesting', 'interim', 'interplay', 'interpretations', 'interview', 'intoning', 'intrigued', 'inventive', 'involved', 'involves', 'involving', 'iq', 'ireland', 'ironically', 'irons', 'ironside', 'irritating', 'ishioka', 'iso', 'issue', 'issues', 'istagey', 'italian', 'ive', 'jack', 'jaclyn', 'james', 'jamie', 'japanese', 'jason', 'jay', 'jealousy', 'jean', 'jennifer', 'jerky', 'jerry', 'jessica', 'jessice', 'jet', 'jim', 'jimmy', 'job', 'jobs', 'joe', 'john', 'joins', 'joke', 'jokes', 'jonah', 'jones', 'journey', 'joy', 'joyce', 'juano', 'judge', 'judging', 'judith', 'judo', 'julian', 'june', 'junk', 'junkyard', 'justice', 'jutland', 'kanaly', 'kathy', 'keep', 'keeps', 'keira', 'keith', 'kept', 'kevin', 'kid', 'kidnapped', 'kids', 'kieslowski', 'kill', 'killer', 'killing', 'killings', 'kind', 'kinda', 'kirk', 'kitchy', 'knew', 'knightley', 'knocked', 'know', 'known', 'knows', 'koteas', 'kris', 'kristoffersen', 'kudos', 'la', 'labute', 'lack', 'lacked', 'lacks', 'ladies', 'lady', 'lame', 'lance', 'landscapes', 'lane', 'lange', 'largely', 'laselva', 'lassie', 'last', 'lasting', 'latched', 'late', 'later', 'latest', 'latifa', 'latin', 'latter', 'laugh', 'laughable', 'laughed', 'laughs', 'layers', 'lazy', 'lead', 'leading', 'leap', 'learn', 'least', 'leave', 'leaves', 'leaving', 'lee', 'left', 'legal', 'legendary', 'length', 'leni', 'less', 'lesser', 'lestat', 'let', 'lets', 'letting', 'level', 'levels', 'lewis', 'lid', 'lie', 'lies', 'lieutenant', 'life', 'lifetime', 'light', 'lighting', 'like', 'liked', 'likes', 'lilli', 'lilt', 'limitations', 'limited', 'linda', 'line', 'linear', 'lines', 'lino', 'lion', 'list', 'literally', 'littered', 'little', 'lived', 'lives', 'living', 'loads', 'local', 'location', 'locations', 'loewenhielm', 'logic', 'london', 'loneliness', 'long', 'longer', 'look', 'looked', 'looking', 'looks', 'loose', 'loosely', 'lord', 'los', 'losing', 'lost', 'lot', 'lots', 'lousy', 'lovable', 'love', 'loved', 'lovely', 'loves', 'low', 'lower', 'loyalty', 'lucio', 'lucy', 'lugosi', 'lust', 'luv', 'lyrics', 'macbeth', 'machine', 'mad', 'made', 'magnificent', 'main', 'mainly', 'major', 'make', 'maker', 'makers', 'makes', 'making', 'male', 'males', 'malta', 'man', 'managed', 'manages', 'manna', 'mansonites', 'many', 'marbles', 'march', 'marine', 'marion', 'mark', 'marred', 'marriage', 'martin', 'masculine', 'masculinity', 'massive', 'master', 'masterful', 'masterpiece', 'masterpieces', 'material', 'matrix', 'matter', 'matthews', 'mature', 'may', 'maybe', 'mchattie', 'mclaglen', 'meagre', 'mean', 'meanders', 'meaning', 'meanings', 'meant', 'medical', 'mediocre', 'meld', 'melodrama', 'melville', 'member', 'members', 'memorable', 'memories', 'memorized', 'menace', 'menacing', 'mention', 'mercy', 'meredith', 'merit', 'mesmerising', 'mess', 'messages', 'meteorite', 'mexican', 'michael', 'mickey', 'microsoft', 'middle', 'might', 'mighty', 'mind', 'mindblowing', 'miner', 'mini', 'minor', 'minute', 'minutes', 'mirrormask', 'miserable', 'miserably', 'mishima', 'misplace', 'miss', 'missed', 'mistakes', 'miyazaki', 'modern', 'modest', 'mollusk', 'moment', 'moments', 'momentum', 'money', 'monica', 'monolog', 'monotonous', 'monster', 'monstrous', 'monumental', 'moral', 'morgan', 'morons', 'mostly', 'mother', 'motion', 'motivations', 'mountain', 'mouse', 'mouth', 'move', 'moved', 'movements', 'moves', 'movie', 'movies', 'moving', 'ms', 'much', 'muddled', 'muppets', 'murder', 'murdered', 'murdering', 'murky', 'music', 'musician', 'must', 'mystifying', 'naked', 'narration', 'narrative', 'nasty', 'national', 'nationalities', 'native', 'natural', 'nature', 'naughty', 'nearly', 'necklace', 'need', 'needed', 'needlessly', 'negative', 'negulesco', 'neighbour', 'neil', 'nerves', 'nervous', 'net', 'netflix', 'network', 'never', 'nevertheless', 'nevsky', 'new', 'next', 'nice', 'nicola', 'night', 'nimoy', 'nine', 'no', 'noble', 'nobody', 'noir', 'non', 'none', 'nonetheless', 'nonsense', 'nor', 'normally', 'northern', 'nostalgia', 'not', 'notable', 'notch', 'note', 'noteworthy', 'nothing', 'novella', 'number', 'numbers', 'nun', 'nuns', 'nurse', 'nut', 'nuts', 'obliged', 'obsessed', 'obvious', 'obviously', 'occasionally', 'occupied', 'occur', 'occurs', 'odd', 'offend', 'offensive', 'offer', 'offers', 'often', 'oh', 'okay', 'old', 'olde', 'older', 'ole', 'olivia', 'omit', 'one', 'ones', 'open', 'opened', 'opening', 'operas', 'opinion', 'ordeal', 'oriented', 'original', 'originality', 'origins', 'ortolani', 'oscar', 'others', 'otherwise', 'ought', 'outlandish', 'outlets', 'outside', 'outward', 'overacting', 'overall', 'overcome', 'overdue', 'overly', 'overs', 'overt', 'overwrought', 'owed', 'owls', 'owned', 'owns', 'oy', 'pace', 'paced', 'pacing', 'pack', 'paid', 'painful', 'painfully', 'paint', 'painted', 'pair', 'palance', 'pandering', 'pans', 'paolo', 'pap', 'paper', 'par', 'parents', 'park', 'parker', 'part', 'partaking', 'particular', 'particularly', 'parts', 'passed', 'passion', 'past', 'patent', 'pathetic', 'patriotism', 'paul', 'pay', 'peaking', 'pearls', 'peculiarity', 'pedestal', 'pencil', 'people', 'perabo', 'perfect', 'perfected', 'perfectly', 'performance', 'performances', 'perhaps', 'period', 'perplexing', 'person', 'personalities', 'personally', 'peter', 'pg', 'phantasm', 'phenomenal', 'philippa', 'phony', 'photograph', 'photography', 'phrase', 'physical', 'pi', 'picked', 'picture', 'pictures', 'piece', 'pieces', 'pile', 'pillow', 'pitch', 'pitiful', 'pixar', 'place', 'places', 'plain', 'plane', 'planned', 'plants', 'play', 'played', 'player', 'players', 'playing', 'plays', 'pleasant', 'pleased', 'pleaser', 'pleasing', 'pledge', 'plenty', 'plmer', 'plot', 'plug', 'plus', 'pm', 'poet', 'poetry', 'poignant', 'point', 'pointillistic', 'pointless', 'poised', 'poler', 'political', 'politically', 'politics', 'ponyo', 'poor', 'poorly', 'popcorn', 'popular', 'portrayal', 'portrayals', 'portrayed', 'portraying', 'positive', 'possible', 'possibly', 'post', 'potted', 'power', 'powerful', 'powerhouse', 'practical', 'practically', 'pray', 'precisely', 'predict', 'predictable', 'predictably', 'prejudice', 'prelude', 'premise', 'prepared', 'presence', 'presents', 'preservation', 'president', 'pretentious', 'pretext', 'pretty', 'previous', 'primal', 'primary', 'probably', 'problem', 'problems', 'proceedings', 'process', 'produce', 'produced', 'producer', 'producers', 'product', 'production', 'professionals', 'professor', 'progresses', 'promote', 'prompted', 'prone', 'propaganda', 'properly', 'proud', 'proudly', 'provided', 'provokes', 'provoking', 'ps', 'pseudo', 'psychological', 'psychotic', 'public', 'pull', 'pulling', 'pulls', 'punched', 'punches', 'punish', 'punishment', 'puppet', 'puppets', 'pure', 'purity', 'put', 'putting', 'puzzle', 'pyromaniac', 'qu', 'quaid', 'qualities', 'quality', 'question', 'questioning', 'quick', 'quicker', 'quiet', 'quinn', 'quite', 'race', 'racial', 'racism', 'radiant', 'raging', 'random', 'range', 'ranks', 'rare', 'rate', 'rated', 'rather', 'rating', 'ratings', 'raver', 'raw', 'ray', 'reactions', 'readers', 'reading', 'ready', 'real', 'realised', 'realistic', 'reality', 'realize', 'realized', 'really', 'reason', 'reasonable', 'reasons', 'receive', 'received', 'recent', 'recently', 'recommend', 'recommended', 'reconciliation', 'recover', 'recurring', 'redeemed', 'redeeming', 'reenactments', 'references', 'reflected', 'refreshing', 'regardless', 'regret', 'regrettable', 'regrettably', 'rejection', 'relate', 'related', 'relation', 'relations', 'relationship', 'relationships', 'relatively', 'relaxing', 'release', 'released', 'relief', 'relying', 'remaining', 'remake', 'remarkable', 'remember', 'reminded', 'remotely', 'removing', 'rendering', 'rendition', 'renowned', 'rent', 'repair', 'repeated', 'repeating', 'repeats', 'repertory', 'reporter', 'represents', 'require', 'rescue', 'researched', 'resounding', 'respecting', 'rest', 'restrained', 'result', 'results', 'resume', 'retarded', 'retreat', 'return', 'revealing', 'revenge', 'revere', 'reverse', 'review', 'reviewer', 'reviewers', 'reviews', 'rice', 'rickman', 'ridiculous', 'ridiculousness', 'right', 'riot', 'rips', 'rise', 'rita', 'rivalry', 'riveted', 'riz', 'road', 'robert', 'robotic', 'rochon', 'rocked', 'rocks', 'roeg', 'role', 'roles', 'roller', 'rolls', 'romantic', 'room', 'roosevelt', 'roth', 'rough', 'round', 'routine', 'row', 'rpg', 'rpger', 'rubbish', 'rubin', 'rumbles', 'run', 'running', 'ruthless', 'ryan', 'ryans', 'sabotages', 'sack', 'sacrifice', 'sad', 'said', 'sake', 'salesman', 'sam', 'sample', 'sand', 'sandra', 'sappiest', 'sarcophage', 'sat', 'satanic', 'savalas', 'savant', 'save', 'savor', 'saw', 'say', 'says', 'scale', 'scamp', 'scare', 'scared', 'scares', 'scary', 'scene', 'scenery', 'scenes', 'schilling', 'schizophrenic', 'school', 'schoolers', 'schrader', 'schultz', 'sci', 'science', 'scientist', 'score', 'scot', 'scream', 'screamy', 'screen', 'screened', 'screenplay', 'screenwriter', 'scrimm', 'script', 'scripted', 'scripting', 'scripts', 'sculpture', 'sea', 'seamless', 'seamlessly', 'sean', 'season', 'seat', 'second', 'secondary', 'secondly', 'see', 'seeing', 'seem', 'seemed', 'seems', 'seen', 'selections', 'self', 'sells', 'semi', 'senior', 'sense', 'senses', 'sensibility', 'sensitivities', 'sentiment', 'seperate', 'sequel', 'sequels', 'sequence', 'sequences', 'series', 'serious', 'seriously', 'served', 'set', 'sets', 'setting', 'settings', 'seuss', 'several', 'sex', 'shakespear', 'shakespears', 'shallow', 'shame', 'shameful', 'share', 'sharing', 'sharply', 'shatner', 'shattered', 'shed', 'sheer', 'shelf', 'shell', 'shelves', 'shenanigans', 'shepard', 'shined', 'shirley', 'shocking', 'shooting', 'short', 'shortlist', 'shot', 'shots', 'show', 'showcasing', 'showed', 'shows', 'shut', 'sibling', 'sick', 'side', 'sidelined', 'sign', 'significant', 'silent', 'silly', 'simmering', 'simplifying', 'simply', 'since', 'sincere', 'sing', 'singing', 'single', 'sinister', 'sink', 'sinking', 'sister', 'sisters', 'sit', 'sitcoms', 'site', 'sites', 'sits', 'situation', 'situations', 'skilled', 'skip', 'slackers', 'slavic', 'sleep', 'slideshow', 'slightest', 'slightly', 'slimy', 'sloppy', 'slow', 'slurs', 'smack', 'small', 'smart', 'smells', 'smile', 'smiling', 'smith', 'smoothly', 'snider', 'snow', 'soap', 'sobering', 'social', 'soldiers', 'sole', 'solid', 'solidifying', 'solving', 'someone', 'something', 'sometimes', 'somewhat', 'son', 'song', 'songs', 'soon', 'sophisticated', 'sorrentino', 'sorry', 'sort', 'soul', 'sound', 'sounded', 'sounds', 'soundtrack', 'sour', 'south', 'southern', 'space', 'spacek', 'spacey', 'span', 'speak', 'speaking', 'special', 'speed', 'spend', 'spent', 'spew', 'sphere', 'spiffy', 'splendid', 'spock', 'spoil', 'spoiled', 'spoiler', 'spoilers', 'spot', 'spy', 'squibs', 'stable', 'stage', 'stagy', 'stand', 'standout', 'stanwyck', 'star', 'starlet', 'starring', 'stars', 'start', 'started', 'starts', 'state', 'stay', 'stayed', 'stealing', 'steamboat', 'steele', 'step', 'stephen', 'stereotypes', 'stereotypically', 'steve', 'stewart', 'stick', 'still', 'stinker', 'stinks', 'stocking', 'stockings', 'stoic', 'store', 'stories', 'storm', 'story', 'storyline', 'storytelling', 'stowe', 'strange', 'stranger', 'stratus', 'straw', 'street', 'strident', 'string', 'strives', 'strokes', 'strong', 'struck', 'structure', 'struggle', 'stuart', 'student', 'students', 'studio', 'study', 'stuff', 'stunning', 'stupid', 'stupidity', 'style', 'stylized', 'sub', 'subject', 'subjects', 'sublime', 'sublimely', 'subplots', 'subtitles', 'subtle', 'subversive', 'subverting', 'succeeded', 'succeeds', 'success', 'suck', 'sucked', 'sucks', 'suffered', 'suffering', 'suggest', 'suggests', 'suited', 'sum', 'summary', 'sundays', 'super', 'superb', 'superbad', 'superbly', 'superficial', 'superlative', 'supernatural', 'supporting', 'supposed', 'supposedly', 'sure', 'surely', 'surf', 'surface', 'surprised', 'surprises', 'surprising', 'surprisingly', 'surrounding', 'surroundings', 'survivors', 'suspense', 'suspension', 'sven', 'swamp', 'sweep', 'sweet', 'switched', 'swords', 'sydney', 'sympathetic', 'syrupy', 'system', 'tacky', 'taelons', 'take', 'taken', 'takes', 'taking', 'tale', 'talent', 'talented', 'talents', 'talk', 'tanks', 'taped', 'tardis', 'task', 'taste', 'taxidermists', 'taylor', 'teacher', 'teaches', 'team', 'tear', 'tears', 'technically', 'teddy', 'tedium', 'teen', 'teenagers', 'teeth', 'telephone', 'television', 'tell', 'telly', 'temperaments', 'ten', 'tender', 'tension', 'tensions', 'terminology', 'terms', 'terrible', 'terribly', 'terrific', 'terror', 'th', 'thanks', 'theater', 'theatre', 'theatres', 'theatrical', 'theme', 'themes', 'therapy', 'thick', 'thing', 'things', 'think', 'thinking', 'thomerson', 'thoroughly', 'thorsen', 'though', 'thought', 'thoughts', 'thousand', 'thread', 'three', 'threshold', 'thrilled', 'thriller', 'thrillers', 'throughout', 'throwback', 'thrown', 'thug', 'thumper', 'thunderbirds', 'thus', 'ticker', 'tickets', 'tightly', 'time', 'timeless', 'timely', 'timers', 'times', 'timing', 'tiny', 'tired', 'title', 'titta', 'today', 'together', 'told', 'tolerable', 'tolerate', 'tom', 'tomorrow', 'tone', 'tongue', 'tonight', 'tons', 'tony', 'took', 'toons', 'top', 'tops', 'torture', 'tortured', 'total', 'totally', 'touch', 'touches', 'touching', 'tough', 'towards', 'towers', 'townsend', 'track', 'tract', 'traditional', 'traffic', 'trailer', 'train', 'tranquillity', 'transcend', 'transfers', 'translate', 'translating', 'trap', 'trash', 'trashy', 'treachery', 'treasure', 'treat', 'treatments', 'trek', 'tremendous', 'tremendously', 'tries', 'trilogy', 'trinity', 'trip', 'triumphed', 'trond', 'trooper', 'trouble', 'truck', 'true', 'truly', 'trumbull', 'trumpeter', 'truth', 'try', 'trying', 'trysts', 'tsunami', 'tuneful', 'turkey', 'turn', 'turned', 'turns', 'tv', 'twice', 'twirling', 'twist', 'twists', 'two', 'tying', 'type', 'typical', 'ue', 'ugliest', 'ugly', 'uhura', 'ultra', 'um', 'unaccompanied', 'unbearable', 'unbearably', 'unbelievable', 'uncalled', 'unconditional', 'unconvincing', 'underacting', 'underappreciated', 'underbite', 'underlines', 'underlying', 'underneath', 'underrated', 'understand', 'understanding', 'understated', 'understatement', 'understood', 'undertone', 'underwater', 'undoubtedly', 'uneasy', 'unemployed', 'unethical', 'unfaithful', 'unfolds', 'unforgettable', 'unfortunate', 'unfortunately', 'unfunny', 'unintentionally', 'uninteresting', 'union', 'unique', 'uniqueness', 'universal', 'universe', 'unless', 'unlockable', 'unmatched', 'unmitigated', 'unmoving', 'unnecessary', 'unneeded', 'unoriginal', 'unpleasant', 'unpredictability', 'unpredictable', 'unrealistic', 'unrecognizable', 'unrecommended', 'unremarkable', 'unrestrained', 'unsatisfactory', 'unwatchable', 'upa', 'uplifting', 'upper', 'ups', 'uptight', 'ursula', 'us', 'use', 'used', 'user', 'uses', 'using', 'ussr', 'usual', 'utter', 'utterly', 'valentine', 'value', 'values', 'vampire', 'vandiver', 'variation', 'vehicles', 'ventura', 'verbal', 'verbatim', 'versatile', 'version', 'versus', 'vessel', 'veteran', 'vey', 'vibe', 'victor', 'video', 'view', 'viewer', 'viewing', 'views', 'villain', 'villains', 'violence', 'violin', 'virtue', 'virus', 'vision', 'visual', 'visually', 'vitally', 'vivian', 'vivid', 'vocal', 'voice', 'volatile', 'volcano', 'vomit', 'vomited', 'voyage', 'vulcan', 'waiting', 'waitress', 'walk', 'walked', 'wall', 'want', 'wanted', 'wanting', 'wants', 'war', 'warmth', 'warn', 'warning', 'wartime', 'warts', 'washed', 'washing', 'waste', 'wasted', 'waster', 'wasting', 'watch', 'watchable', 'watched', 'watching', 'water', 'watkins', 'watson', 'wave', 'way', 'waylaid', 'wayne', 'ways', 'wb', 'weak', 'weaker', 'weariness', 'weaving', 'website', 'wedding', 'weight', 'weird', 'well', 'welsh', 'went', 'whatever', 'whatsoever', 'whenever', 'whether', 'whine', 'whiny', 'white', 'whites', 'whoever', 'whole', 'wholesome', 'wide', 'widmark', 'wife', 'wih', 'wild', 'wilkinson', 'william', 'willie', 'wily', 'win', 'wind', 'wise', 'wish', 'within', 'without', 'witticisms', 'witty', 'woa', 'women', 'wonder', 'wondered', 'wonderful', 'wonderfully', 'wong', 'wont', 'woo', 'wooden', 'word', 'words', 'work', 'worked', 'working', 'works', 'world', 'worry', 'worse', 'worst', 'worth', 'worthless', 'worthwhile', 'worthy', 'would', 'wouldnt', 'woven', 'wow', 'wrap', 'write', 'writer', 'writers', 'writing', 'written', 'wrong', 'wrote', 'yardley', 'yawn', 'yeah', 'year', 'years', 'yelps', 'yes', 'yet', 'young', 'younger', 'youthful', 'youtube', 'yun', 'zillion', 'zombie', 'zombiez']\n"
          ]
        }
      ],
      "source": [
        "#Finding the feature names of the tfidf vector. \n",
        "feature_names = []\n",
        "for sentence in corpus:\n",
        "  for word in sentence.split():\n",
        "    if len(word)>=2:\n",
        "      feature_names.append(word)\n",
        "\n",
        "feature_names = list(sorted(list(set(feature_names))))\n",
        "\n",
        "\n",
        "\n",
        "\n",
        "print(feature_names)\n"
      ]
    },
    {
      "cell_type": "code",
      "execution_count": 21,
      "metadata": {
        "id": "E6pOD0y61wCr"
      },
      "outputs": [],
      "source": [
        "#Function to return the vocabulary and idf values of the top 50 feature names. \n",
        "def fit_top_50(corpus, feature_names):\n",
        "    vocab , idf_dict = fit(corpus, feature_names)\n",
        "\n",
        "    count = Counter(idf_dict)\n",
        "    top_50 = count.most_common(50)\n",
        "    top_50 = dict(top_50)\n",
        "    \n",
        "    vocab_50 = {j:i for i,j in enumerate(top_50.keys())}\n",
        "\n",
        "    return vocab_50, top_50 \n",
        "\n",
        "\n",
        "\n",
        "        \n",
        "    \n",
        " \n",
        "\n"
      ]
    },
    {
      "cell_type": "code",
      "execution_count": 22,
      "metadata": {
        "id": "C8V4AiG01wCs"
      },
      "outputs": [],
      "source": [
        "vocab_50 , idf_top_50 = fit_top_50(corpus, feature_names)\n",
        "\n",
        "tf_l3 = tf(corpus, vocab_50.keys())\n",
        "\n",
        "\n"
      ]
    },
    {
      "cell_type": "code",
      "source": [
        "transformed_50 = transform(corpus, vocab_50, idf_top_50, tf_l3)\n",
        "\n",
        "print(transformed_50.shape)"
      ],
      "metadata": {
        "colab": {
          "base_uri": "https://localhost:8080/"
        },
        "id": "8MOhzH9X5Ncy",
        "outputId": "1fc361ab-95da-4bfb-b407-d3c0315c23ec"
      },
      "execution_count": 18,
      "outputs": [
        {
          "output_type": "stream",
          "name": "stdout",
          "text": [
            "Normalized Spare Matrix\n",
            "   (0, 30)\t1.0\n",
            "  (68, 24)\t1.0\n",
            "  (72, 29)\t1.0\n",
            "  (74, 31)\t1.0\n",
            "  (119, 33)\t1.0\n",
            "  (135, 3)\t0.37796447300922725\n",
            "  (135, 10)\t0.37796447300922725\n",
            "  (135, 18)\t0.37796447300922725\n",
            "  (135, 20)\t0.37796447300922725\n",
            "  (135, 36)\t0.37796447300922725\n",
            "  (135, 40)\t0.37796447300922725\n",
            "  (135, 41)\t0.37796447300922725\n",
            "  (176, 49)\t1.0\n",
            "  (181, 13)\t1.0\n",
            "  (192, 21)\t1.0\n",
            "  (193, 23)\t1.0\n",
            "  (216, 2)\t1.0\n",
            "  (222, 47)\t1.0\n",
            "  (225, 19)\t1.0\n",
            "  (227, 17)\t1.0\n",
            "  (241, 44)\t1.0\n",
            "  (270, 1)\t1.0\n",
            "  (290, 25)\t1.0\n",
            "  (333, 26)\t1.0\n",
            "  (334, 15)\t1.0\n",
            "  (341, 43)\t1.0\n",
            "  (344, 42)\t1.0\n",
            "  (348, 8)\t1.0\n",
            "  (377, 37)\t1.0\n",
            "  (409, 5)\t1.0\n",
            "  (430, 39)\t1.0\n",
            "  (457, 45)\t1.0\n",
            "  (461, 4)\t1.0\n",
            "  (465, 38)\t1.0\n",
            "  (475, 35)\t1.0\n",
            "  (493, 6)\t1.0\n",
            "  (500, 48)\t1.0\n",
            "  (548, 0)\t0.7071067811865475\n",
            "  (548, 32)\t0.7071067811865475\n",
            "  (608, 14)\t1.0\n",
            "  (612, 11)\t1.0\n",
            "  (620, 46)\t1.0\n",
            "  (632, 7)\t1.0\n",
            "  (644, 12)\t0.7071067811865475\n",
            "  (644, 27)\t0.7071067811865475\n",
            "  (664, 28)\t1.0\n",
            "  (667, 22)\t1.0\n",
            "  (691, 34)\t1.0\n",
            "  (697, 9)\t1.0\n",
            "  (722, 16)\t1.0\n",
            "(746, 50)\n"
          ]
        },
        {
          "output_type": "stream",
          "name": "stderr",
          "text": [
            "/usr/local/lib/python3.7/dist-packages/scipy/sparse/_index.py:84: SparseEfficiencyWarning: Changing the sparsity structure of a csr_matrix is expensive. lil_matrix is more efficient.\n",
            "  self._set_intXint(row, col, x.flat[0])\n"
          ]
        }
      ]
    },
    {
      "cell_type": "markdown",
      "source": [
        "# Compare with TfidfVectorizer()"
      ],
      "metadata": {
        "id": "HG1AnVCt8Ymw"
      }
    },
    {
      "cell_type": "code",
      "source": [
        "\"\"\"from sklearn.feature_extraction.text import TfidfVectorizer\n",
        "tf_idf_vectorizer = TfidfVectorizer()\"\"\"\n",
        "\n",
        "tfidf_vector = tf_idf_vectorizer.fit_transform(corpus)\n",
        "print(tfidf_vector[:50])"
      ],
      "metadata": {
        "colab": {
          "base_uri": "https://localhost:8080/"
        },
        "id": "laxr9xU13gWu",
        "outputId": "0198d15a-e06a-4dd4-bbfc-a0eafedaaac1"
      },
      "execution_count": 19,
      "outputs": [
        {
          "output_type": "stream",
          "name": "stdout",
          "text": [
            "  (0, 1545)\t0.3056602689480387\n",
            "  (0, 2878)\t0.3578114562231773\n",
            "  (0, 720)\t0.41239438707788106\n",
            "  (0, 688)\t0.41239438707788106\n",
            "  (0, 1651)\t0.1619231790584802\n",
            "  (0, 53)\t0.41239438707788106\n",
            "  (0, 1653)\t0.3578114562231773\n",
            "  (0, 2287)\t0.33776799164675547\n",
            "  (1, 2764)\t0.3766212179754885\n",
            "  (1, 1132)\t0.3276587847617171\n",
            "  (1, 1676)\t0.4000516539584004\n",
            "  (1, 149)\t0.3365666231014132\n",
            "  (1, 374)\t0.23983327446209926\n",
            "  (1, 966)\t0.3766212179754885\n",
            "  (1, 1511)\t0.34710235966502895\n",
            "  (1, 2446)\t0.3599970590843251\n",
            "  (1, 1712)\t0.16744040526541595\n",
            "  (2, 853)\t0.28282863381171675\n",
            "  (2, 1704)\t0.2453945264455564\n",
            "  (2, 64)\t0.21707671739759152\n",
            "  (2, 1482)\t0.22619301571578695\n",
            "  (2, 1873)\t0.17804028847989228\n",
            "  (2, 1889)\t0.23164830224699004\n",
            "  (2, 20)\t0.162536633636425\n",
            "  (2, 2085)\t0.2379459683681101\n",
            "  :\t:\n",
            "  (47, 172)\t0.4195903237195789\n",
            "  (47, 291)\t0.45527382447788844\n",
            "  (47, 2829)\t0.4351779190007822\n",
            "  (47, 1222)\t0.4195903237195789\n",
            "  (47, 534)\t0.3071637415418937\n",
            "  (47, 1132)\t0.39608620264180894\n",
            "  (48, 253)\t0.5282840017588138\n",
            "  (48, 1014)\t0.5282840017588138\n",
            "  (48, 2866)\t0.40342042642518794\n",
            "  (48, 2508)\t0.5282840017588138\n",
            "  (49, 1368)\t0.27160063154338415\n",
            "  (49, 1861)\t0.24333513946916174\n",
            "  (49, 2268)\t0.3228314229849748\n",
            "  (49, 2140)\t0.3228314229849748\n",
            "  (49, 1248)\t0.3039236621628977\n",
            "  (49, 1572)\t0.28010270069713544\n",
            "  (49, 65)\t0.2905083923654613\n",
            "  (49, 1174)\t0.3039236621628977\n",
            "  (49, 2782)\t0.2203698401017935\n",
            "  (49, 2866)\t0.23208920387946486\n",
            "  (49, 534)\t0.2050509477897825\n",
            "  (49, 2803)\t0.19210434802757106\n",
            "  (49, 2002)\t0.21318144305738773\n",
            "  (49, 224)\t0.22303526703062987\n",
            "  (49, 20)\t0.18552553189846385\n"
          ]
        }
      ]
    },
    {
      "cell_type": "markdown",
      "source": [
        "## Observations:-\n",
        "The values of our own implimentation of the tfidf vectorizer yieds different results from fit_transform() method from the tfidfvectorizer() "
      ],
      "metadata": {
        "id": "fE7CFX_I06pa"
      }
    }
  ],
  "metadata": {
    "colab": {
      "collapsed_sections": [],
      "name": "Assignment_3.ipynb",
      "provenance": []
    },
    "kernelspec": {
      "display_name": "Python 3",
      "language": "python",
      "name": "python3"
    },
    "language_info": {
      "codemirror_mode": {
        "name": "ipython",
        "version": 3
      },
      "file_extension": ".py",
      "mimetype": "text/x-python",
      "name": "python",
      "nbconvert_exporter": "python",
      "pygments_lexer": "ipython3",
      "version": "3.8.8"
    }
  },
  "nbformat": 4,
  "nbformat_minor": 0
}